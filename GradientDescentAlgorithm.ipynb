{
 "cells": [
  {
   "cell_type": "code",
   "execution_count": 1,
   "id": "433aeb8c",
   "metadata": {},
   "outputs": [],
   "source": [
    "import numpy as np"
   ]
  },
  {
   "cell_type": "markdown",
   "id": "fc215099",
   "metadata": {},
   "source": [
    "### funtion to find the slop and intercept using gradient descent"
   ]
  },
  {
   "cell_type": "code",
   "execution_count": 66,
   "id": "c07885f2",
   "metadata": {},
   "outputs": [],
   "source": [
    "x = np.array([1,2,3,4,5])\n",
    "y = np.array([5,7,9,11,13])"
   ]
  },
  {
   "cell_type": "code",
   "execution_count": 67,
   "id": "dbc9b24a",
   "metadata": {},
   "outputs": [],
   "source": [
    "def gradient_descent(x,y):\n",
    "    curr_slop = curr_intercept = 0\n",
    "    epochs = 10000\n",
    "    learning_rate = 0.01\n",
    "    n = len(x)\n",
    "    for i in range(epochs):\n",
    "        y_predicted = curr_slop * x +curr_intercept\n",
    "        cost = (1/n) * sum([val**2 for val in (y-y_predicted)])\n",
    "        slop_derivative = -(2/n)*sum(x * (y-y_predicted))\n",
    "        intercept_derivative = -(2/n)*sum(y-y_predicted) \n",
    "        curr_slop = curr_slop - learning_rate*slop_derivative\n",
    "        curr_intercept = curr_intercept - learning_rate * intercept_derivative\n",
    "        #print(f\"curr_slop-  {curr_slop},curr_intercept- {curr_intercept},epoch - {i}, cost : {cost}\")\n",
    "    return curr_slop , curr_intercept"
   ]
  },
  {
   "cell_type": "code",
   "execution_count": 70,
   "id": "ad8098fe",
   "metadata": {},
   "outputs": [
    {
     "name": "stdout",
     "output_type": "stream",
     "text": [
      "curr_slop : 2,curr_intercept : 3\n"
     ]
    }
   ],
   "source": [
    "curr_slop , curr_intercept = gradient_descent(x,y)\n",
    "curr_slop = round(curr_slop)\n",
    "curr_intercept = round(curr_intercept)\n",
    "print(f\"curr_slop : {curr_slop},curr_intercept : {curr_intercept}\")"
   ]
  },
  {
   "cell_type": "markdown",
   "id": "6247ca4a",
   "metadata": {},
   "source": [
    "###  finding slop and algorithm using GradientDescent algorithm and sklearn"
   ]
  },
  {
   "cell_type": "code",
   "execution_count": 50,
   "id": "854f3e8d",
   "metadata": {},
   "outputs": [
    {
     "name": "stdout",
     "output_type": "stream",
     "text": [
      "Using gradient descent function: Coef 1.0177381667350405 Intercept 1.9150826165722297\n",
      "Using sklearn: Coef [1.01773624] Intercept 1.9152193111569318\n"
     ]
    }
   ],
   "source": [
    "import numpy as np\n",
    "import pandas as pd\n",
    "from sklearn.linear_model import LinearRegression\n",
    "import math\n",
    "\n",
    "def predict_using_sklean():\n",
    "    df = pd.read_csv(\"test_scores.csv\")\n",
    "    r = LinearRegression()\n",
    "    r.fit(df[['math']],df.cs)\n",
    "    return r.coef_, r.intercept_\n",
    "\n",
    "def gradient_descent(x,y):\n",
    "    m_curr = 0\n",
    "    b_curr = 0\n",
    "    iterations = 1000000\n",
    "    n = len(x)\n",
    "    learning_rate = 0.0002\n",
    "\n",
    "    cost_previous = 0\n",
    "\n",
    "    for i in range(iterations):\n",
    "        y_predicted = m_curr * x + b_curr\n",
    "        cost = (1/n)*sum([value**2 for value in (y-y_predicted)])\n",
    "        md = -(2/n)*sum(x*(y-y_predicted))\n",
    "        bd = -(2/n)*sum(y-y_predicted)\n",
    "        m_curr = m_curr - learning_rate * md\n",
    "        b_curr = b_curr - learning_rate * bd\n",
    "        if math.isclose(cost, cost_previous, rel_tol=1e-20):\n",
    "            break\n",
    "        cost_previous = cost\n",
    "        #print (\"m {}, b {}, cost {}, iteration {}\".format(m_curr,b_curr,cost, i))\n",
    "\n",
    "    return m_curr, b_curr\n",
    "\n",
    "x = np.array(df.math)\n",
    "y = np.array(df.cs)\n",
    "m, b = gradient_descent(x,y)\n",
    "print(f\"Using gradient descent function: Coef {m} Intercept {b}\")\n",
    "\n",
    "m_sklearn, b_sklearn = predict_using_sklean()\n",
    "print(f\"Using sklearn: Coef {m_sklearn} Intercept {b_sklearn}\")"
   ]
  },
  {
   "cell_type": "code",
   "execution_count": null,
   "id": "39b65768",
   "metadata": {},
   "outputs": [],
   "source": []
  }
 ],
 "metadata": {
  "kernelspec": {
   "display_name": "Python 3 (ipykernel)",
   "language": "python",
   "name": "python3"
  },
  "language_info": {
   "codemirror_mode": {
    "name": "ipython",
    "version": 3
   },
   "file_extension": ".py",
   "mimetype": "text/x-python",
   "name": "python",
   "nbconvert_exporter": "python",
   "pygments_lexer": "ipython3",
   "version": "3.11.5"
  }
 },
 "nbformat": 4,
 "nbformat_minor": 5
}
